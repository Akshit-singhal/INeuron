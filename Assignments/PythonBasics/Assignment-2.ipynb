{
 "cells": [
  {
   "cell_type": "markdown",
   "id": "a206da40",
   "metadata": {},
   "source": [
    "## Assignment-2"
   ]
  },
  {
   "cell_type": "markdown",
   "id": "f1d2a480",
   "metadata": {},
   "source": [
    "######  Ques-1  Write a Python program to convert kilometers to miles?"
   ]
  },
  {
   "cell_type": "code",
   "execution_count": 8,
   "id": "29a7f755",
   "metadata": {},
   "outputs": [
    {
     "name": "stdout",
     "output_type": "stream",
     "text": [
      "Enter the kilometers 45\n",
      "45.0 km have 72.581 m\n"
     ]
    }
   ],
   "source": [
    "km = float(input(\"Enter the kilometers \"))\n",
    "m = round(km/0.62,3)\n",
    "print(\"{} km have {} m\".format(km,m))"
   ]
  },
  {
   "cell_type": "markdown",
   "id": "2f45c9ad",
   "metadata": {},
   "source": [
    "######  Ques-2 Write a Python program to convert Celsius to Fahrenheit?"
   ]
  },
  {
   "cell_type": "code",
   "execution_count": 9,
   "id": "e9698d5f",
   "metadata": {},
   "outputs": [
    {
     "name": "stdout",
     "output_type": "stream",
     "text": [
      "Enter the Celcius Temperature 45\n",
      "45.0 degree celcius temperature is equals to 113.0 degree farenheit\n"
     ]
    }
   ],
   "source": [
    "c = float(input(\"Enter the Celcius Temperature \"))\n",
    "f = (c *(9/5) + 32)\n",
    "print(\"{} degree celcius temperature is equals to {} degree farenheit\".format(c,f))"
   ]
  },
  {
   "cell_type": "markdown",
   "id": "a502f6a0",
   "metadata": {},
   "source": [
    "######  Ques-3 Write a Python program to display calendar?"
   ]
  },
  {
   "cell_type": "code",
   "execution_count": 10,
   "id": "f71b426a",
   "metadata": {},
   "outputs": [
    {
     "name": "stdout",
     "output_type": "stream",
     "text": [
      "Enter the year 2002\n",
      "Enter the month 10\n",
      "    October 2002\n",
      "Mo Tu We Th Fr Sa Su\n",
      "    1  2  3  4  5  6\n",
      " 7  8  9 10 11 12 13\n",
      "14 15 16 17 18 19 20\n",
      "21 22 23 24 25 26 27\n",
      "28 29 30 31\n",
      "\n"
     ]
    }
   ],
   "source": [
    "import calendar\n",
    "year = int(input(\"Enter the year \"))\n",
    "month = int(input(\"Enter the month \"))\n",
    "\n",
    "print(calendar.month(year,month))\n"
   ]
  },
  {
   "cell_type": "markdown",
   "id": "efea973f",
   "metadata": {},
   "source": [
    "######  Ques-4 Write a Python program to solve quadratic equation?"
   ]
  },
  {
   "cell_type": "code",
   "execution_count": 12,
   "id": "b3ec57b1",
   "metadata": {},
   "outputs": [
    {
     "name": "stdout",
     "output_type": "stream",
     "text": [
      "General equation of a quadratic equation is: ax^2+bx+c\n",
      "Enter the coefficient of x^2 4\n",
      "Enter the coefficient of x 8\n",
      "Enter the value of absolute term 7\n",
      "Two roots of quadratic equation 4.0x^2+8.0x+7.0 are (-16+13.856406460551018j) and (-16-13.856406460551018j)\n"
     ]
    }
   ],
   "source": [
    "print(\"General equation of a quadratic equation is: ax^2+bx+c\")\n",
    "a = float(input(\"Enter the coefficient of x^2 \"))\n",
    "b = float(input(\"Enter the coefficient of x \"))\n",
    "c = float(input(\"Enter the value of absolute term \"))\n",
    "\n",
    "if(a!=0):\n",
    "    r1 = ((-b + (b*b-4*a*c)**(0.5))/2*a)\n",
    "    r2 = ((-b - (b*b-4*a*c)**(0.5))/2*a)\n",
    "    print(\"Two roots of quadratic equation {}x^2+{}x+{} are {} and {}\".format(a,b,c,r1,r2))\n",
    "else:\n",
    "    print(\"Value of 'a' can't be zero\")"
   ]
  },
  {
   "cell_type": "markdown",
   "id": "dcdcf1c5",
   "metadata": {},
   "source": [
    "######  Ques-5 Write a Python program to swap two variables without temp variable?"
   ]
  },
  {
   "cell_type": "code",
   "execution_count": 13,
   "id": "558e014c",
   "metadata": {},
   "outputs": [
    {
     "name": "stdout",
     "output_type": "stream",
     "text": [
      "Enter the value of first variable 48\n",
      "Enter the value of second variable 44\n",
      "Value of first variable is 44.0 and value of second variable is 48.0\n"
     ]
    }
   ],
   "source": [
    "a = float(input(\"Enter the value of first variable \"))\n",
    "b = float(input(\"Enter the value of second variable \"))\n",
    "\n",
    "a,b = b,a\n",
    "print(\"Value of first variable is {} and value of second variable is {}\".format(a,b))"
   ]
  },
  {
   "cell_type": "code",
   "execution_count": null,
   "id": "9d361d61",
   "metadata": {},
   "outputs": [],
   "source": []
  }
 ],
 "metadata": {
  "kernelspec": {
   "display_name": "Python 3 (ipykernel)",
   "language": "python",
   "name": "python3"
  },
  "language_info": {
   "codemirror_mode": {
    "name": "ipython",
    "version": 3
   },
   "file_extension": ".py",
   "mimetype": "text/x-python",
   "name": "python",
   "nbconvert_exporter": "python",
   "pygments_lexer": "ipython3",
   "version": "3.8.10"
  }
 },
 "nbformat": 4,
 "nbformat_minor": 5
}
