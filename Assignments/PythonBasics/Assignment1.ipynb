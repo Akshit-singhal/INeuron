{
 "cells": [
   {
   "cell_type": "markdown",
   "id": "cedd787b",
   "metadata": {},
   "source": [
    "##  Assignment-1"
   ]
  },
  {
   "cell_type": "markdown",
   "id": "09d9eb13",
   "metadata": {},
   "source": [
    "###### Ques1. Write a Python program to print \"Hello Python\"?"
   ]
  },
  {
   "cell_type": "code",
   "execution_count": 1,
   "id": "9e2881e2",
   "metadata": {},
   "outputs": [
    {
     "name": "stdout",
     "output_type": "stream",
     "text": [
      "Hello Python\n"
     ]
    }
   ],
   "source": [
    "print(\"Hello Python\")"
   ]
  },
  {
   "cell_type": "markdown",
   "id": "489d9cdc",
   "metadata": {},
   "source": [
    "###### Ques2. Write a Python program to do arithmetical operations addition and division.?"
   ]
  },
  {
   "cell_type": "code",
   "execution_count": 7,
   "id": "52d69161",
   "metadata": {},
   "outputs": [
    {
     "name": "stdout",
     "output_type": "stream",
     "text": [
      "Addition operation in integers 15\n",
      "Division operaion in integers 0.5\n",
      "Addition operaion in float number 27.099999999999998\n",
      "Division operaion in float number 7.468749999999999\n",
      "Addition operation in String abcdef\n"
     ]
    }
   ],
   "source": [
    "a = 5 \n",
    "b = 10\n",
    "\n",
    "print(\"Addition operation in integers\",a+b)\n",
    "\n",
    "print(\"Division operaion in integers\",a/b)\n",
    "\n",
    "c = 23.9\n",
    "d = 3.2\n",
    "\n",
    "print(\"Addition operaion in float number\",c+d)\n",
    "\n",
    "print(\"Division operaion in float number\",c/d)\n",
    "\n",
    "e = 'abc'\n",
    "f = 'def'\n",
    " \n",
    "print(\"Addition operation in String\",e+f)\n"
   ]
  },
  {
   "cell_type": "markdown",
   "id": "285a747e",
   "metadata": {},
   "source": [
    "###### Ques3. Write a Python program to find the area of a triangle?"
   ]
  },
  {
   "cell_type": "code",
   "execution_count": 8,
   "id": "9b4e1e7c",
   "metadata": {},
   "outputs": [
    {
     "name": "stdout",
     "output_type": "stream",
     "text": [
      "Enter a base of an triangle5\n",
      "Enter a height of an triangle10\n",
      "25.0\n"
     ]
    }
   ],
   "source": [
    "Base = int(input(\"Enter a base of an triangle\"))\n",
    "Height = int(input(\"Enter a height of an triangle\"))\n",
    "\n",
    "Area = 0.5*Base*Height\n",
    "print(Area)"
   ]
  },
  {
   "cell_type": "markdown",
   "id": "b62e1f8e",
   "metadata": {},
   "source": [
    "###### Ques4. Write a Python program to swap two variables?"
   ]
  },
  {
   "cell_type": "code",
   "execution_count": 11,
   "id": "264e9581",
   "metadata": {},
   "outputs": [
    {
     "name": "stdout",
     "output_type": "stream",
     "text": [
      "Value of a : 8\n",
      "Value of b : 5\n"
     ]
    }
   ],
   "source": [
    "a = 5\n",
    "b = 8\n",
    "a,b = b,a\n",
    "\n",
    "print(\"Value of a :\",a)\n",
    "print(\"Value of b :\",b)"
   ]
  },
  {
   "cell_type": "markdown",
   "id": "14e8dd4c",
   "metadata": {},
   "source": [
    "###### Ques5. Write a Python program to generate a random number?\n"
   ]
  },
  {
   "cell_type": "code",
   "execution_count": 12,
   "id": "70fe2740",
   "metadata": {},
   "outputs": [
    {
     "name": "stdout",
     "output_type": "stream",
     "text": [
      "0.361396060475349\n"
     ]
    }
   ],
   "source": [
    "import random\n",
    "n = random.random()\n",
    "print(n)"
   ]
  },
  {
   "cell_type": "code",
   "execution_count": null,
   "id": "17895e71",
   "metadata": {},
   "outputs": [],
   "source": []
  }
 ],
 "metadata": {
  "kernelspec": {
   "display_name": "Python 3 (ipykernel)",
   "language": "python",
   "name": "python3"
  },
  "language_info": {
   "codemirror_mode": {
    "name": "ipython",
    "version": 3
   },
   "file_extension": ".py",
   "mimetype": "text/x-python",
   "name": "python",
   "nbconvert_exporter": "python",
   "pygments_lexer": "ipython3",
   "version": "3.8.10"
  }
 },
 "nbformat": 4,
 "nbformat_minor": 5
}
